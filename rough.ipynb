{
 "cells": [
  {
   "cell_type": "code",
   "execution_count": 5,
   "metadata": {},
   "outputs": [],
   "source": [
    "import cgi\n",
    "import psycopg2\n",
    "import json\n",
    "\n",
    "\n",
    "# CONNECT TO DATABSE\n",
    "\n",
    "conn = psycopg2.connect(\n",
    "dbname=\"Hostels\",\n",
    "user=\"default\",\n",
    "password=\"lROMAXTd80iS\",\n",
    "host=\"ep-dawn-lake-a2p7qy94.eu-central-1.aws.neon.tech\",\n",
    "port=\"5432\"\n",
    ")\n",
    "cursor = conn.cursor()\n",
    "query = '''\n",
    "SELECT name, ST_AsGeoJSON(geom) as geom\n",
    "FROM hostels_wgs;\n",
    "'''\n",
    "cursor.execute(query)\n",
    "cursor.close()"
   ]
  },
  {
   "cell_type": "code",
   "execution_count": 6,
   "metadata": {},
   "outputs": [],
   "source": [
    "cursor.close()\n",
    "conn.close()\n"
   ]
  }
 ],
 "metadata": {
  "kernelspec": {
   "display_name": "Python 3",
   "language": "python",
   "name": "python3"
  },
  "language_info": {
   "codemirror_mode": {
    "name": "ipython",
    "version": 3
   },
   "file_extension": ".py",
   "mimetype": "text/x-python",
   "name": "python",
   "nbconvert_exporter": "python",
   "pygments_lexer": "ipython3",
   "version": "3.11.3"
  }
 },
 "nbformat": 4,
 "nbformat_minor": 2
}
