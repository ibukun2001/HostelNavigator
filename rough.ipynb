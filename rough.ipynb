{
 "cells": [
  {
   "cell_type": "code",
   "execution_count": 3,
   "metadata": {},
   "outputs": [
    {
     "name": "stdout",
     "output_type": "stream",
     "text": [
      "Content-Type: application/json\n",
      "\n",
      "{\"type\": \"FeatureCollection\", \"features\": [{\"type\": \"Feature\", \"geometry\": {\"type\": \"Point\", \"coordinates\": [5.150894157, 7.294918897]}, \"properties\": {\"Name\": \"equity\"}}]}\n"
     ]
    }
   ],
   "source": [
    "#!C:\\wamp64\\www\\HostelNavigator\\venv\\Scripts\\python.exe\n",
    "\n",
    "import psycopg2\n",
    "import cgi\n",
    "import json\n",
    "\n",
    "name='equity'\n",
    "#form = cgi.FieldStorage()\n",
    "#name = form.getvalue('query')\n",
    "\n",
    "# Connect to the database\n",
    "conn = psycopg2.connect(\n",
    "dbname=\"FutaHostels\",\n",
    "user=\"postgres\",\n",
    "password=\"password\",\n",
    "host=\"localhost\",\n",
    "port=\"5432\"\n",
    ")\n",
    "\n",
    "\n",
    "# Query to find exact matches\n",
    "cursor = conn.cursor()\n",
    "cursor.execute('''\n",
    "SELECT Name, ST_AsGeoJSON(geom) as geom FROM hostels\n",
    "WHERE Name = %s''', (name,))\n",
    "\n",
    "\n",
    "features = []\n",
    "for row in cursor.fetchall():\n",
    "    feature = {\n",
    "        \"type\": \"Feature\",\n",
    "        \"geometry\": json.loads(row[1]),  # Assuming the geom column is at index 2\n",
    "        \"properties\": {\n",
    "            \"Name\": row[0],\n",
    "        }\n",
    "    }\n",
    "    features.append(feature)\n",
    "    geojson = {\n",
    "    \"type\": \"FeatureCollection\",\n",
    "    \"features\": features\n",
    "    }\n",
    "\n",
    "hostels = json.dumps(geojson)\n",
    "\n",
    "\n",
    "# Close the connection\n",
    "conn.close()\n",
    "\n",
    "# RETURN RESULT TO CLIENT\n",
    "print('Content-Type: application/json')\n",
    "print()\n",
    "print(hostels)"
   ]
  }
 ],
 "metadata": {
  "kernelspec": {
   "display_name": "Python 3",
   "language": "python",
   "name": "python3"
  },
  "language_info": {
   "codemirror_mode": {
    "name": "ipython",
    "version": 3
   },
   "file_extension": ".py",
   "mimetype": "text/x-python",
   "name": "python",
   "nbconvert_exporter": "python",
   "pygments_lexer": "ipython3",
   "version": "3.11.3"
  }
 },
 "nbformat": 4,
 "nbformat_minor": 2
}
